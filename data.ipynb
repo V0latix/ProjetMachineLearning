{
 "cells": [
  {
   "cell_type": "code",
   "execution_count": 42,
   "metadata": {},
   "outputs": [
    {
     "name": "stdout",
     "output_type": "stream",
     "text": [
      "['BollingerBands', 'EMA', 'MA', 'MACD', 'RSI', 'STD', '__builtins__', '__cached__', '__doc__', '__file__', '__loader__', '__name__', '__package__', '__spec__', 'pandas', 'pd']\n"
     ]
    }
   ],
   "source": [
    "import yfinance as yf\n",
    "import matplotlib as plt\n",
    "from indicators import *\n",
    "import os\n",
    "import importlib\n",
    "importlib.reload(indicators)\n",
    "print(dir(indicators))"
   ]
  },
  {
   "cell_type": "code",
   "execution_count": 43,
   "metadata": {},
   "outputs": [],
   "source": [
    "start_date = '1950-01-01'\n",
    "end_date = '2024-01-01'"
   ]
  },
  {
   "cell_type": "code",
   "execution_count": 63,
   "metadata": {},
   "outputs": [],
   "source": [
    "indices = {\n",
    "    \"SP500\": \"^GSPC\",\n",
    "    \"Nasdaq100\": \"^NDX\",\n",
    "}"
   ]
  },
  {
   "cell_type": "code",
   "execution_count": 62,
   "metadata": {},
   "outputs": [],
   "source": [
    "def extract_data(ticker, start_date, end_date):\n",
    "    data = yf.download(ticker, start=start_date, end=end_date, interval=\"1d\")\n",
    "\n",
    "    data = data[data[\"Volume\"] > 0]\n",
    "    data[\"V_t\"] = (data[\"Close\"].diff() / data[\"Close\"].shift()) * 100\n",
    "    data[\"MA5\"] = MA(data[\"Close\"], 5)\n",
    "    data[\"MA15\"] = MA(data[\"Close\"], 15)\n",
    "    data[\"EMA5\"] = EMA(data[\"Close\"], 5)\n",
    "    data[\"EMA15\"] = EMA(data[\"Close\"], 15)\n",
    "    data[\"RSI14\"] = RSI(data[\"Close\"], 14)\n",
    "    data[\"MACD\"], data[\"Signal\"] = MACD(data[\"Close\"], 12, 26)\n",
    "    data[\"STD10\"] = STD(data[\"Close\"], 10)\n",
    "    data[\"STD20\"] = STD(data[\"Close\"], 20)\n",
    "    data[\"BollingerBandUpper\"], data[\"BollingerBandLower\"] = BollingerBands(data[\"Close\"], 20, 2)\n",
    "    data = data.dropna()\n",
    "\n",
    "    return data"
   ]
  },
  {
   "cell_type": "code",
   "execution_count": 64,
   "metadata": {},
   "outputs": [
    {
     "name": "stderr",
     "output_type": "stream",
     "text": [
      "[*********************100%***********************]  1 of 1 completed\n",
      "[*********************100%***********************]  1 of 1 completed\n"
     ]
    }
   ],
   "source": [
    "for name, ticker in indices.items():\n",
    "\n",
    "    name = extract_data(ticker, start_date, end_date)"
   ]
  },
  {
   "cell_type": "code",
   "execution_count": 65,
   "metadata": {},
   "outputs": [
    {
     "data": {
      "text/html": [
       "<div>\n",
       "<style scoped>\n",
       "    .dataframe tbody tr th:only-of-type {\n",
       "        vertical-align: middle;\n",
       "    }\n",
       "\n",
       "    .dataframe tbody tr th {\n",
       "        vertical-align: top;\n",
       "    }\n",
       "\n",
       "    .dataframe thead tr th {\n",
       "        text-align: left;\n",
       "    }\n",
       "\n",
       "    .dataframe thead tr:last-of-type th {\n",
       "        text-align: right;\n",
       "    }\n",
       "</style>\n",
       "<table border=\"1\" class=\"dataframe\">\n",
       "  <thead>\n",
       "    <tr>\n",
       "      <th>Price</th>\n",
       "      <th>Adj Close</th>\n",
       "      <th>Close</th>\n",
       "      <th>High</th>\n",
       "      <th>Low</th>\n",
       "      <th>Open</th>\n",
       "      <th>Volume</th>\n",
       "      <th>V_t</th>\n",
       "      <th>MA5</th>\n",
       "      <th>MA15</th>\n",
       "      <th>EMA5</th>\n",
       "      <th>EMA15</th>\n",
       "      <th>RSI14</th>\n",
       "      <th>MACD</th>\n",
       "      <th>Signal</th>\n",
       "      <th>STD10</th>\n",
       "      <th>STD20</th>\n",
       "      <th>BollingerBandUpper</th>\n",
       "      <th>BollingerBandLower</th>\n",
       "    </tr>\n",
       "    <tr>\n",
       "      <th>Ticker</th>\n",
       "      <th>TICKER</th>\n",
       "      <th>TICKER</th>\n",
       "      <th>TICKER</th>\n",
       "      <th>TICKER</th>\n",
       "      <th>TICKER</th>\n",
       "      <th>TICKER</th>\n",
       "      <th></th>\n",
       "      <th></th>\n",
       "      <th></th>\n",
       "      <th></th>\n",
       "      <th></th>\n",
       "      <th></th>\n",
       "      <th></th>\n",
       "      <th></th>\n",
       "      <th></th>\n",
       "      <th></th>\n",
       "      <th></th>\n",
       "      <th></th>\n",
       "    </tr>\n",
       "    <tr>\n",
       "      <th>Date</th>\n",
       "      <th></th>\n",
       "      <th></th>\n",
       "      <th></th>\n",
       "      <th></th>\n",
       "      <th></th>\n",
       "      <th></th>\n",
       "      <th></th>\n",
       "      <th></th>\n",
       "      <th></th>\n",
       "      <th></th>\n",
       "      <th></th>\n",
       "      <th></th>\n",
       "      <th></th>\n",
       "      <th></th>\n",
       "      <th></th>\n",
       "      <th></th>\n",
       "      <th></th>\n",
       "      <th></th>\n",
       "    </tr>\n",
       "  </thead>\n",
       "  <tbody>\n",
       "  </tbody>\n",
       "</table>\n",
       "</div>"
      ],
      "text/plain": [
       "Empty DataFrame\n",
       "Columns: [(Adj Close, TICKER), (Close, TICKER), (High, TICKER), (Low, TICKER), (Open, TICKER), (Volume, TICKER), (V_t, ), (MA5, ), (MA15, ), (EMA5, ), (EMA15, ), (RSI14, ), (MACD, ), (Signal, ), (STD10, ), (STD20, ), (BollingerBandUpper, ), (BollingerBandLower, )]\n",
       "Index: []"
      ]
     },
     "execution_count": 65,
     "metadata": {},
     "output_type": "execute_result"
    }
   ],
   "source": [
    "sp500"
   ]
  },
  {
   "cell_type": "code",
   "execution_count": null,
   "metadata": {},
   "outputs": [],
   "source": []
  }
 ],
 "metadata": {
  "kernelspec": {
   "display_name": "base",
   "language": "python",
   "name": "python3"
  },
  "language_info": {
   "codemirror_mode": {
    "name": "ipython",
    "version": 3
   },
   "file_extension": ".py",
   "mimetype": "text/x-python",
   "name": "python",
   "nbconvert_exporter": "python",
   "pygments_lexer": "ipython3",
   "version": "3.12.4"
  }
 },
 "nbformat": 4,
 "nbformat_minor": 2
}
