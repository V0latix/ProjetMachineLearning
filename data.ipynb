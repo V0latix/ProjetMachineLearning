{
 "cells": [
  {
   "cell_type": "code",
   "execution_count": 145,
   "metadata": {},
   "outputs": [
    {
     "name": "stdout",
     "output_type": "stream",
     "text": [
      "['BollingerBands', 'EMA', 'MA', 'MACD', 'RSI', 'STD', '__builtins__', '__cached__', '__doc__', '__file__', '__loader__', '__name__', '__package__', '__spec__', 'pandas', 'pd']\n"
     ]
    }
   ],
   "source": [
    "import yfinance as yf\n",
    "import matplotlib as plt\n",
    "from indicators import *\n",
    "import os\n",
    "import importlib\n",
    "from sklearn.model_selection import train_test_split\n",
    "from sklearn.linear_model import LinearRegression\n",
    "from sklearn.metrics import mean_squared_error, mean_absolute_error, r2_score\n",
    "from sklearn.preprocessing import StandardScaler\n",
    "import pandas as pd\n",
    "import numpy as np\n",
    "\n",
    "importlib.reload(indicators)\n",
    "print(dir(indicators))"
   ]
  },
  {
   "cell_type": "code",
   "execution_count": 106,
   "metadata": {},
   "outputs": [],
   "source": [
    "start_date = '1950-01-01'\n",
    "end_date = '2025-01-01'"
   ]
  },
  {
   "cell_type": "code",
   "execution_count": 107,
   "metadata": {},
   "outputs": [],
   "source": [
    "indices = {\n",
    "    \"SP500\": \"^GSPC\",\n",
    "    \"Nasdaq100\": \"^NDX\",\n",
    "    \"DowJones\": \"^DJI\",\n",
    "    \"Russell2000\": \"^RUT\",\n",
    "    \"FTSE100\": \"^FTSE\",\n",
    "    \"DAX\": \"^GDAXI\",\n",
    "    \"CAC40\": \"^FCHI\",\n",
    "    \"Nikkei225\": \"^N225\",\n",
    "    \"HangSeng\": \"^HSI\",\n",
    "    \"EuroStoxx50\": \"^STOXX50E\"\n",
    "}"
   ]
  },
  {
   "cell_type": "code",
   "execution_count": 108,
   "metadata": {},
   "outputs": [],
   "source": [
    "def extract_data(ticker, start_date, end_date):\n",
    "    data = yf.download(ticker, start=start_date, end=end_date, interval=\"1d\")\n",
    "\n",
    "    data = data[data[\"Volume\"] > 0]\n",
    "    data[\"V_t\"] = (data[\"Close\"].diff() / data[\"Close\"].shift()) * 100\n",
    "    data[\"MA5\"] = MA(data[\"Close\"], 5)\n",
    "    data[\"MA15\"] = MA(data[\"Close\"], 15)\n",
    "    data[\"EMA5\"] = EMA(data[\"Close\"], 5)\n",
    "    data[\"EMA15\"] = EMA(data[\"Close\"], 15)\n",
    "    data[\"RSI14\"] = RSI(data[\"Close\"], 14)\n",
    "    data[\"MACD\"], data[\"Signal\"] = MACD(data[\"Close\"], 12, 26)\n",
    "    data[\"STD10\"] = STD(data[\"Close\"], 10)\n",
    "    data[\"STD20\"] = STD(data[\"Close\"], 20)\n",
    "    data[\"BollingerBandUpper\"], data[\"BollingerBandLower\"] = BollingerBands(data[\"Close\"], 20, 2)\n",
    "    data = data.dropna()\n",
    "\n",
    "    data = data.drop(\"Adj Close\", axis=1)\n",
    "    if isinstance(data.columns, pd.MultiIndex):\n",
    "        # On garde seulement le premier niveau de header\n",
    "        data.columns = data.columns.get_level_values(0)\n",
    "\n",
    "    # On transforme la date en colonne\n",
    "    data = data.reset_index()\n",
    "    data[\"Date\"] = pd.to_datetime(data[\"Date\"]).dt.date\n",
    "\n",
    "    return data"
   ]
  },
  {
   "cell_type": "code",
   "execution_count": 109,
   "metadata": {},
   "outputs": [],
   "source": [
    "base_list = []"
   ]
  },
  {
   "cell_type": "code",
   "execution_count": 110,
   "metadata": {},
   "outputs": [
    {
     "name": "stderr",
     "output_type": "stream",
     "text": [
      "[*********************100%***********************]  1 of 1 completed\n"
     ]
    },
    {
     "name": "stdout",
     "output_type": "stream",
     "text": [
      "✅ Fichier enregistré : /Users/romaindesmeulemester/ProjetMachineLearning/ProjetMachineLearning/base/SP500.csv\n"
     ]
    },
    {
     "name": "stderr",
     "output_type": "stream",
     "text": [
      "[*********************100%***********************]  1 of 1 completed\n",
      "\n",
      "1 Failed download:\n",
      "['^NDX']: ConnectionError(MaxRetryError('HTTPSConnectionPool(host=\\'query2.finance.yahoo.com\\', port=443): Max retries exceeded with url: /v8/finance/chart/%5ENDX?period1=-631134000&period2=1735707600&interval=1d&includePrePost=False&events=div%2Csplits%2CcapitalGains&crumb=CKV.zkgRvwc (Caused by NameResolutionError(\"<urllib3.connection.HTTPSConnection object at 0x13f291910>: Failed to resolve \\'query2.finance.yahoo.com\\' ([Errno 8] nodename nor servname provided, or not known)\"))'))\n"
     ]
    },
    {
     "name": "stdout",
     "output_type": "stream",
     "text": [
      "✅ Fichier enregistré : /Users/romaindesmeulemester/ProjetMachineLearning/ProjetMachineLearning/base/Nasdaq100.csv\n"
     ]
    },
    {
     "name": "stderr",
     "output_type": "stream",
     "text": [
      "[*********************100%***********************]  1 of 1 completed\n",
      "\n",
      "1 Failed download:\n",
      "['^DJI']: ConnectionError(MaxRetryError('HTTPSConnectionPool(host=\\'query2.finance.yahoo.com\\', port=443): Max retries exceeded with url: /v8/finance/chart/%5EDJI?period1=-631134000&period2=1735707600&interval=1d&includePrePost=False&events=div%2Csplits%2CcapitalGains&crumb=CKV.zkgRvwc (Caused by NameResolutionError(\"<urllib3.connection.HTTPSConnection object at 0x16e2c6390>: Failed to resolve \\'query2.finance.yahoo.com\\' ([Errno 8] nodename nor servname provided, or not known)\"))'))\n"
     ]
    },
    {
     "name": "stdout",
     "output_type": "stream",
     "text": [
      "✅ Fichier enregistré : /Users/romaindesmeulemester/ProjetMachineLearning/ProjetMachineLearning/base/DowJones.csv\n"
     ]
    },
    {
     "name": "stderr",
     "output_type": "stream",
     "text": [
      "[*********************100%***********************]  1 of 1 completed\n",
      "\n",
      "1 Failed download:\n",
      "['^RUT']: ConnectionError(MaxRetryError('HTTPSConnectionPool(host=\\'query2.finance.yahoo.com\\', port=443): Max retries exceeded with url: /v8/finance/chart/%5ERUT?period1=-631134000&period2=1735707600&interval=1d&includePrePost=False&events=div%2Csplits%2CcapitalGains&crumb=CKV.zkgRvwc (Caused by NameResolutionError(\"<urllib3.connection.HTTPSConnection object at 0x16e2ee210>: Failed to resolve \\'query2.finance.yahoo.com\\' ([Errno 8] nodename nor servname provided, or not known)\"))'))\n"
     ]
    },
    {
     "name": "stdout",
     "output_type": "stream",
     "text": [
      "✅ Fichier enregistré : /Users/romaindesmeulemester/ProjetMachineLearning/ProjetMachineLearning/base/Russell2000.csv\n"
     ]
    },
    {
     "name": "stderr",
     "output_type": "stream",
     "text": [
      "[*********************100%***********************]  1 of 1 completed\n",
      "\n",
      "1 Failed download:\n",
      "['^FTSE']: ConnectionError(MaxRetryError('HTTPSConnectionPool(host=\\'query2.finance.yahoo.com\\', port=443): Max retries exceeded with url: /v8/finance/chart/%5EFTSE?period1=-631152000&period2=1735689600&interval=1d&includePrePost=False&events=div%2Csplits%2CcapitalGains&crumb=CKV.zkgRvwc (Caused by NameResolutionError(\"<urllib3.connection.HTTPSConnection object at 0x17747a330>: Failed to resolve \\'query2.finance.yahoo.com\\' ([Errno 8] nodename nor servname provided, or not known)\"))'))\n"
     ]
    },
    {
     "name": "stdout",
     "output_type": "stream",
     "text": [
      "✅ Fichier enregistré : /Users/romaindesmeulemester/ProjetMachineLearning/ProjetMachineLearning/base/FTSE100.csv\n"
     ]
    },
    {
     "name": "stderr",
     "output_type": "stream",
     "text": [
      "[*********************100%***********************]  1 of 1 completed\n",
      "\n",
      "1 Failed download:\n",
      "['^GDAXI']: ConnectionError(MaxRetryError('HTTPSConnectionPool(host=\\'query2.finance.yahoo.com\\', port=443): Max retries exceeded with url: /v8/finance/chart/%5EGDAXI?period1=-631155600&period2=1735686000&interval=1d&includePrePost=False&events=div%2Csplits%2CcapitalGains&crumb=CKV.zkgRvwc (Caused by NameResolutionError(\"<urllib3.connection.HTTPSConnection object at 0x176fde120>: Failed to resolve \\'query2.finance.yahoo.com\\' ([Errno 8] nodename nor servname provided, or not known)\"))'))\n"
     ]
    },
    {
     "name": "stdout",
     "output_type": "stream",
     "text": [
      "✅ Fichier enregistré : /Users/romaindesmeulemester/ProjetMachineLearning/ProjetMachineLearning/base/DAX.csv\n"
     ]
    },
    {
     "name": "stderr",
     "output_type": "stream",
     "text": [
      "[*********************100%***********************]  1 of 1 completed\n",
      "\n",
      "1 Failed download:\n",
      "['^FCHI']: ConnectionError(MaxRetryError('HTTPSConnectionPool(host=\\'query2.finance.yahoo.com\\', port=443): Max retries exceeded with url: /v8/finance/chart/%5EFCHI?period1=-631155600&period2=1735686000&interval=1d&includePrePost=False&events=div%2Csplits%2CcapitalGains&crumb=CKV.zkgRvwc (Caused by NameResolutionError(\"<urllib3.connection.HTTPSConnection object at 0x16e2efe60>: Failed to resolve \\'query2.finance.yahoo.com\\' ([Errno 8] nodename nor servname provided, or not known)\"))'))\n"
     ]
    },
    {
     "name": "stdout",
     "output_type": "stream",
     "text": [
      "✅ Fichier enregistré : /Users/romaindesmeulemester/ProjetMachineLearning/ProjetMachineLearning/base/CAC40.csv\n"
     ]
    },
    {
     "name": "stderr",
     "output_type": "stream",
     "text": [
      "[*********************100%***********************]  1 of 1 completed\n",
      "\n",
      "1 Failed download:\n",
      "['^N225']: ConnectionError(MaxRetryError('HTTPSConnectionPool(host=\\'query2.finance.yahoo.com\\', port=443): Max retries exceeded with url: /v8/finance/chart/%5EN225?period1=-631184400&period2=1735657200&interval=1d&includePrePost=False&events=div%2Csplits%2CcapitalGains&crumb=CKV.zkgRvwc (Caused by NameResolutionError(\"<urllib3.connection.HTTPSConnection object at 0x167930920>: Failed to resolve \\'query2.finance.yahoo.com\\' ([Errno 8] nodename nor servname provided, or not known)\"))'))\n"
     ]
    },
    {
     "name": "stdout",
     "output_type": "stream",
     "text": [
      "✅ Fichier enregistré : /Users/romaindesmeulemester/ProjetMachineLearning/ProjetMachineLearning/base/Nikkei225.csv\n"
     ]
    },
    {
     "name": "stderr",
     "output_type": "stream",
     "text": [
      "[*********************100%***********************]  1 of 1 completed\n",
      "\n",
      "1 Failed download:\n",
      "['^HSI']: ConnectionError(MaxRetryError('HTTPSConnectionPool(host=\\'query2.finance.yahoo.com\\', port=443): Max retries exceeded with url: /v8/finance/chart/%5EHSI?period1=-631180800&period2=1735660800&interval=1d&includePrePost=False&events=div%2Csplits%2CcapitalGains&crumb=CKV.zkgRvwc (Caused by NameResolutionError(\"<urllib3.connection.HTTPSConnection object at 0x16e2c57c0>: Failed to resolve \\'query2.finance.yahoo.com\\' ([Errno 8] nodename nor servname provided, or not known)\"))'))\n"
     ]
    },
    {
     "name": "stdout",
     "output_type": "stream",
     "text": [
      "✅ Fichier enregistré : /Users/romaindesmeulemester/ProjetMachineLearning/ProjetMachineLearning/base/HangSeng.csv\n"
     ]
    },
    {
     "name": "stderr",
     "output_type": "stream",
     "text": [
      "[*********************100%***********************]  1 of 1 completed\n",
      "\n",
      "1 Failed download:\n",
      "['^STOXX50E']: ConnectionError(MaxRetryError('HTTPSConnectionPool(host=\\'query2.finance.yahoo.com\\', port=443): Max retries exceeded with url: /v8/finance/chart/%5ESTOXX50E?period1=-631155600&period2=1735686000&interval=1d&includePrePost=False&events=div%2Csplits%2CcapitalGains&crumb=CKV.zkgRvwc (Caused by NameResolutionError(\"<urllib3.connection.HTTPSConnection object at 0x16e2edfa0>: Failed to resolve \\'query2.finance.yahoo.com\\' ([Errno 8] nodename nor servname provided, or not known)\"))'))\n"
     ]
    },
    {
     "name": "stdout",
     "output_type": "stream",
     "text": [
      "✅ Fichier enregistré : /Users/romaindesmeulemester/ProjetMachineLearning/ProjetMachineLearning/base/EuroStoxx50.csv\n"
     ]
    }
   ],
   "source": [
    "for name, ticker in indices.items():\n",
    "    base_dir = os.path.join(os.getcwd(), \"base\")\n",
    "\n",
    "    data = extract_data(ticker, start_date, end_date)\n",
    "\n",
    "    data.insert(0, 'Indice', name)\n",
    "\n",
    "    base_list.append(data)\n",
    "\n",
    "    \n",
    "    if data is not None:\n",
    "        file_path = os.path.join(base_dir, f\"{name}.csv\")\n",
    "        data.to_csv(file_path)\n",
    "        print(f\"✅ Fichier enregistré : {file_path}\")\n",
    "\n",
    "    BaseTotal = pd.concat(base_list)\n",
    "\n",
    "    file_path = os.path.join(base_dir, \"BaseTotal.csv\")\n",
    "    BaseTotal.to_csv(file_path)"
   ]
  },
  {
   "cell_type": "markdown",
   "metadata": {},
   "source": [
    "Régression linéaire"
   ]
  },
  {
   "cell_type": "code",
   "execution_count": 139,
   "metadata": {},
   "outputs": [
    {
     "data": {
      "text/html": [
       "<div>\n",
       "<style scoped>\n",
       "    .dataframe tbody tr th:only-of-type {\n",
       "        vertical-align: middle;\n",
       "    }\n",
       "\n",
       "    .dataframe tbody tr th {\n",
       "        vertical-align: top;\n",
       "    }\n",
       "\n",
       "    .dataframe thead th {\n",
       "        text-align: right;\n",
       "    }\n",
       "</style>\n",
       "<table border=\"1\" class=\"dataframe\">\n",
       "  <thead>\n",
       "    <tr style=\"text-align: right;\">\n",
       "      <th></th>\n",
       "      <th>Valeur réelle</th>\n",
       "      <th>Prédiction</th>\n",
       "    </tr>\n",
       "  </thead>\n",
       "  <tbody>\n",
       "    <tr>\n",
       "      <th>0</th>\n",
       "      <td>0.511033</td>\n",
       "      <td>0.275155</td>\n",
       "    </tr>\n",
       "    <tr>\n",
       "      <th>1</th>\n",
       "      <td>-0.101900</td>\n",
       "      <td>0.193339</td>\n",
       "    </tr>\n",
       "    <tr>\n",
       "      <th>2</th>\n",
       "      <td>-2.953700</td>\n",
       "      <td>-0.522204</td>\n",
       "    </tr>\n",
       "    <tr>\n",
       "      <th>3</th>\n",
       "      <td>0.209032</td>\n",
       "      <td>0.331738</td>\n",
       "    </tr>\n",
       "    <tr>\n",
       "      <th>4</th>\n",
       "      <td>1.171289</td>\n",
       "      <td>0.632279</td>\n",
       "    </tr>\n",
       "    <tr>\n",
       "      <th>5</th>\n",
       "      <td>-0.932780</td>\n",
       "      <td>-0.295923</td>\n",
       "    </tr>\n",
       "    <tr>\n",
       "      <th>6</th>\n",
       "      <td>-0.348140</td>\n",
       "      <td>-0.180649</td>\n",
       "    </tr>\n",
       "    <tr>\n",
       "      <th>7</th>\n",
       "      <td>0.516013</td>\n",
       "      <td>0.638766</td>\n",
       "    </tr>\n",
       "    <tr>\n",
       "      <th>8</th>\n",
       "      <td>0.438335</td>\n",
       "      <td>-0.109275</td>\n",
       "    </tr>\n",
       "    <tr>\n",
       "      <th>9</th>\n",
       "      <td>-0.008946</td>\n",
       "      <td>0.009570</td>\n",
       "    </tr>\n",
       "  </tbody>\n",
       "</table>\n",
       "</div>"
      ],
      "text/plain": [
       "   Valeur réelle  Prédiction\n",
       "0       0.511033    0.275155\n",
       "1      -0.101900    0.193339\n",
       "2      -2.953700   -0.522204\n",
       "3       0.209032    0.331738\n",
       "4       1.171289    0.632279\n",
       "5      -0.932780   -0.295923\n",
       "6      -0.348140   -0.180649\n",
       "7       0.516013    0.638766\n",
       "8       0.438335   -0.109275\n",
       "9      -0.008946    0.009570"
      ]
     },
     "metadata": {},
     "output_type": "display_data"
    },
    {
     "name": "stdout",
     "output_type": "stream",
     "text": [
      "MSE : 0.5534\n",
      "MAE : 0.4804\n",
      "R² : 0.4256\n"
     ]
    }
   ],
   "source": [
    "BaseTotal = BaseTotal.reset_index(drop=True)\n",
    "\n",
    "# Séparation des features et de la cible\n",
    "X = BaseTotal.drop(columns=[\"V_t\", \"Indice\", \"Date\"])\n",
    "Y = BaseTotal[\"V_t\"]\n",
    "\n",
    "# Division en train et test\n",
    "X_train, X_test, Y_train, Y_test = train_test_split(X, Y, test_size=0.2, random_state=0)\n",
    "\n",
    "# Création et entraînement du modèle\n",
    "model = LinearRegression()\n",
    "model.fit(X_train, Y_train)\n",
    "\n",
    "# Affichage des coefficients\n",
    "coefficients_linéaire = pd.DataFrame(np.append(model.intercept_, model.coef_),\n",
    "                                    index=[\"Intercept\"] + list(X_train.columns),\n",
    "                                    columns=[\"Coefficients (Sklearn)\"])\n",
    "\n",
    "# Prédictions avec Scikit-Learn\n",
    "Y_pred = model.predict(X_test)\n",
    "\n",
    "# Affichage des premières valeurs réelles vs prédites\n",
    "resultats = pd.DataFrame({\"Valeur réelle\": Y_test.values, \"Prédiction\": Y_pred})\n",
    "display(resultats.head(10))\n",
    "\n",
    "mse = mean_squared_error(Y_test, Y_pred)\n",
    "mae = mean_absolute_error(Y_test, Y_pred)\n",
    "r2 = r2_score(Y_test, Y_pred)\n",
    "\n",
    "print(f\"MSE : {mse:.4f}\")\n",
    "print(f\"MAE : {mae:.4f}\")\n",
    "print(f\"R² : {r2:.4f}\")"
   ]
  },
  {
   "cell_type": "code",
   "execution_count": 143,
   "metadata": {},
   "outputs": [
    {
     "data": {
      "text/html": [
       "<div>\n",
       "<style scoped>\n",
       "    .dataframe tbody tr th:only-of-type {\n",
       "        vertical-align: middle;\n",
       "    }\n",
       "\n",
       "    .dataframe tbody tr th {\n",
       "        vertical-align: top;\n",
       "    }\n",
       "\n",
       "    .dataframe thead th {\n",
       "        text-align: right;\n",
       "    }\n",
       "</style>\n",
       "<table border=\"1\" class=\"dataframe\">\n",
       "  <thead>\n",
       "    <tr style=\"text-align: right;\">\n",
       "      <th></th>\n",
       "      <th>Valeur réelle</th>\n",
       "      <th>Prédiction OLS</th>\n",
       "    </tr>\n",
       "  </thead>\n",
       "  <tbody>\n",
       "    <tr>\n",
       "      <th>0</th>\n",
       "      <td>0.511033</td>\n",
       "      <td>0.273235</td>\n",
       "    </tr>\n",
       "    <tr>\n",
       "      <th>1</th>\n",
       "      <td>-0.101900</td>\n",
       "      <td>0.191438</td>\n",
       "    </tr>\n",
       "    <tr>\n",
       "      <th>2</th>\n",
       "      <td>-2.953700</td>\n",
       "      <td>-0.522360</td>\n",
       "    </tr>\n",
       "    <tr>\n",
       "      <th>3</th>\n",
       "      <td>0.209032</td>\n",
       "      <td>0.330777</td>\n",
       "    </tr>\n",
       "    <tr>\n",
       "      <th>4</th>\n",
       "      <td>1.171289</td>\n",
       "      <td>0.630117</td>\n",
       "    </tr>\n",
       "    <tr>\n",
       "      <th>5</th>\n",
       "      <td>-0.932780</td>\n",
       "      <td>-0.295759</td>\n",
       "    </tr>\n",
       "    <tr>\n",
       "      <th>6</th>\n",
       "      <td>-0.348140</td>\n",
       "      <td>-0.180728</td>\n",
       "    </tr>\n",
       "    <tr>\n",
       "      <th>7</th>\n",
       "      <td>0.516013</td>\n",
       "      <td>0.635911</td>\n",
       "    </tr>\n",
       "    <tr>\n",
       "      <th>8</th>\n",
       "      <td>0.438335</td>\n",
       "      <td>-0.109304</td>\n",
       "    </tr>\n",
       "    <tr>\n",
       "      <th>9</th>\n",
       "      <td>-0.008946</td>\n",
       "      <td>0.008734</td>\n",
       "    </tr>\n",
       "  </tbody>\n",
       "</table>\n",
       "</div>"
      ],
      "text/plain": [
       "   Valeur réelle  Prédiction OLS\n",
       "0       0.511033        0.273235\n",
       "1      -0.101900        0.191438\n",
       "2      -2.953700       -0.522360\n",
       "3       0.209032        0.330777\n",
       "4       1.171289        0.630117\n",
       "5      -0.932780       -0.295759\n",
       "6      -0.348140       -0.180728\n",
       "7       0.516013        0.635911\n",
       "8       0.438335       -0.109304\n",
       "9      -0.008946        0.008734"
      ]
     },
     "metadata": {},
     "output_type": "display_data"
    },
    {
     "name": "stdout",
     "output_type": "stream",
     "text": [
      "📊 Performance du modèle OLS :\n",
      "MSE (Erreur quadratique moyenne) : 0.5535\n",
      "MAE (Erreur absolue moyenne) : 0.4804\n",
      "R² Score : 0.4255\n"
     ]
    }
   ],
   "source": [
    "# Ajout de la colonne de biais (intercept)\n",
    "X_train_b = np.c_[np.ones((X_train.shape[0], 1)), X_train]\n",
    "X_test_b = np.c_[np.ones((X_test.shape[0], 1)), X_test]\n",
    "\n",
    "# Calcul des coefficients via OLS\n",
    "theta_best = np.linalg.inv(X_train_b.T @ X_train_b) @ X_train_b.T @ Y_train\n",
    "\n",
    "# Affichage des coefficients\n",
    "coefficients_OLS = pd.DataFrame(theta_best, index=[\"Intercept\"] + list(X_train.columns), columns=[\"Coefficients\"])\n",
    "\n",
    "# Prédiction sur l'ensemble de test\n",
    "Y_pred_OLS = X_test_b @ theta_best\n",
    "\n",
    "# Affichage des premières prédictions vs vraies valeurs\n",
    "resultats_OLS = pd.DataFrame({\"Valeur réelle\": Y_test.values, \"Prédiction OLS\": Y_pred_OLS.flatten()})\n",
    "\n",
    "display(resultats_OLS.head(10))\n",
    "\n",
    "# Calcul des métriques d'évaluation\n",
    "mse_OLS = mean_squared_error(Y_test, Y_pred_OLS)\n",
    "mae_OLS = mean_absolute_error(Y_test, Y_pred_OLS)\n",
    "r2_OLS = r2_score(Y_test, Y_pred_OLS)\n",
    "\n",
    "# Affichage des résultats\n",
    "print(f\"📊 Performance du modèle OLS :\")\n",
    "print(f\"MSE (Erreur quadratique moyenne) : {mse_OLS:.4f}\")\n",
    "print(f\"MAE (Erreur absolue moyenne) : {mae_OLS:.4f}\")\n",
    "print(f\"R² Score : {r2_OLS:.4f}\")"
   ]
  },
  {
   "cell_type": "code",
   "execution_count": 147,
   "metadata": {},
   "outputs": [
    {
     "name": "stdout",
     "output_type": "stream",
     "text": [
      "\n",
      "📊 Performance du modèle (Descente de Gradient) :\n",
      "MSE : 0.9189\n",
      "MAE : 0.6364\n",
      "R² : 0.0462\n"
     ]
    },
    {
     "data": {
      "text/html": [
       "<div>\n",
       "<style scoped>\n",
       "    .dataframe tbody tr th:only-of-type {\n",
       "        vertical-align: middle;\n",
       "    }\n",
       "\n",
       "    .dataframe tbody tr th {\n",
       "        vertical-align: top;\n",
       "    }\n",
       "\n",
       "    .dataframe thead th {\n",
       "        text-align: right;\n",
       "    }\n",
       "</style>\n",
       "<table border=\"1\" class=\"dataframe\">\n",
       "  <thead>\n",
       "    <tr style=\"text-align: right;\">\n",
       "      <th></th>\n",
       "      <th>Coefficients (GD)</th>\n",
       "    </tr>\n",
       "  </thead>\n",
       "  <tbody>\n",
       "    <tr>\n",
       "      <th>Intercept</th>\n",
       "      <td>0.034540</td>\n",
       "    </tr>\n",
       "    <tr>\n",
       "      <th>Close</th>\n",
       "      <td>0.456194</td>\n",
       "    </tr>\n",
       "    <tr>\n",
       "      <th>High</th>\n",
       "      <td>0.094865</td>\n",
       "    </tr>\n",
       "    <tr>\n",
       "      <th>Low</th>\n",
       "      <td>0.126505</td>\n",
       "    </tr>\n",
       "    <tr>\n",
       "      <th>Open</th>\n",
       "      <td>-0.238394</td>\n",
       "    </tr>\n",
       "    <tr>\n",
       "      <th>Volume</th>\n",
       "      <td>-0.024382</td>\n",
       "    </tr>\n",
       "    <tr>\n",
       "      <th>MA5</th>\n",
       "      <td>-0.117899</td>\n",
       "    </tr>\n",
       "    <tr>\n",
       "      <th>MA15</th>\n",
       "      <td>-0.064718</td>\n",
       "    </tr>\n",
       "    <tr>\n",
       "      <th>EMA5</th>\n",
       "      <td>-0.030761</td>\n",
       "    </tr>\n",
       "    <tr>\n",
       "      <th>EMA15</th>\n",
       "      <td>-0.084550</td>\n",
       "    </tr>\n",
       "    <tr>\n",
       "      <th>RSI14</th>\n",
       "      <td>0.228944</td>\n",
       "    </tr>\n",
       "    <tr>\n",
       "      <th>MACD</th>\n",
       "      <td>0.142119</td>\n",
       "    </tr>\n",
       "    <tr>\n",
       "      <th>Signal</th>\n",
       "      <td>-0.244127</td>\n",
       "    </tr>\n",
       "    <tr>\n",
       "      <th>STD10</th>\n",
       "      <td>-0.013285</td>\n",
       "    </tr>\n",
       "    <tr>\n",
       "      <th>STD20</th>\n",
       "      <td>-0.050563</td>\n",
       "    </tr>\n",
       "    <tr>\n",
       "      <th>BollingerBandUpper</th>\n",
       "      <td>-0.025191</td>\n",
       "    </tr>\n",
       "    <tr>\n",
       "      <th>BollingerBandLower</th>\n",
       "      <td>-0.014481</td>\n",
       "    </tr>\n",
       "  </tbody>\n",
       "</table>\n",
       "</div>"
      ],
      "text/plain": [
       "                    Coefficients (GD)\n",
       "Intercept                    0.034540\n",
       "Close                        0.456194\n",
       "High                         0.094865\n",
       "Low                          0.126505\n",
       "Open                        -0.238394\n",
       "Volume                      -0.024382\n",
       "MA5                         -0.117899\n",
       "MA15                        -0.064718\n",
       "EMA5                        -0.030761\n",
       "EMA15                       -0.084550\n",
       "RSI14                        0.228944\n",
       "MACD                         0.142119\n",
       "Signal                      -0.244127\n",
       "STD10                       -0.013285\n",
       "STD20                       -0.050563\n",
       "BollingerBandUpper          -0.025191\n",
       "BollingerBandLower          -0.014481"
      ]
     },
     "metadata": {},
     "output_type": "display_data"
    },
    {
     "data": {
      "text/html": [
       "<div>\n",
       "<style scoped>\n",
       "    .dataframe tbody tr th:only-of-type {\n",
       "        vertical-align: middle;\n",
       "    }\n",
       "\n",
       "    .dataframe tbody tr th {\n",
       "        vertical-align: top;\n",
       "    }\n",
       "\n",
       "    .dataframe thead th {\n",
       "        text-align: right;\n",
       "    }\n",
       "</style>\n",
       "<table border=\"1\" class=\"dataframe\">\n",
       "  <thead>\n",
       "    <tr style=\"text-align: right;\">\n",
       "      <th></th>\n",
       "      <th>Valeur réelle</th>\n",
       "      <th>Prédiction GD</th>\n",
       "    </tr>\n",
       "  </thead>\n",
       "  <tbody>\n",
       "    <tr>\n",
       "      <th>0</th>\n",
       "      <td>0.511033</td>\n",
       "      <td>-0.054300</td>\n",
       "    </tr>\n",
       "    <tr>\n",
       "      <th>1</th>\n",
       "      <td>-0.101900</td>\n",
       "      <td>0.081085</td>\n",
       "    </tr>\n",
       "    <tr>\n",
       "      <th>2</th>\n",
       "      <td>-2.953700</td>\n",
       "      <td>-0.248613</td>\n",
       "    </tr>\n",
       "    <tr>\n",
       "      <th>3</th>\n",
       "      <td>0.209032</td>\n",
       "      <td>0.414975</td>\n",
       "    </tr>\n",
       "    <tr>\n",
       "      <th>4</th>\n",
       "      <td>1.171289</td>\n",
       "      <td>0.134744</td>\n",
       "    </tr>\n",
       "    <tr>\n",
       "      <th>5</th>\n",
       "      <td>-0.932780</td>\n",
       "      <td>-0.373194</td>\n",
       "    </tr>\n",
       "    <tr>\n",
       "      <th>6</th>\n",
       "      <td>-0.348140</td>\n",
       "      <td>-0.236436</td>\n",
       "    </tr>\n",
       "    <tr>\n",
       "      <th>7</th>\n",
       "      <td>0.516013</td>\n",
       "      <td>0.038935</td>\n",
       "    </tr>\n",
       "    <tr>\n",
       "      <th>8</th>\n",
       "      <td>0.438335</td>\n",
       "      <td>-0.259218</td>\n",
       "    </tr>\n",
       "    <tr>\n",
       "      <th>9</th>\n",
       "      <td>-0.008946</td>\n",
       "      <td>-0.067578</td>\n",
       "    </tr>\n",
       "  </tbody>\n",
       "</table>\n",
       "</div>"
      ],
      "text/plain": [
       "   Valeur réelle  Prédiction GD\n",
       "0       0.511033      -0.054300\n",
       "1      -0.101900       0.081085\n",
       "2      -2.953700      -0.248613\n",
       "3       0.209032       0.414975\n",
       "4       1.171289       0.134744\n",
       "5      -0.932780      -0.373194\n",
       "6      -0.348140      -0.236436\n",
       "7       0.516013       0.038935\n",
       "8       0.438335      -0.259218\n",
       "9      -0.008946      -0.067578"
      ]
     },
     "metadata": {},
     "output_type": "display_data"
    }
   ],
   "source": [
    "# 🔹 1. Préparation des données\n",
    "BaseTotal = BaseTotal.reset_index(drop=True)\n",
    "\n",
    "# Séparation des features et de la cible\n",
    "X = BaseTotal.drop(columns=[\"V_t\", \"Indice\", \"Date\"])  # Features\n",
    "Y = BaseTotal[\"V_t\"]  # Cible\n",
    "\n",
    "# Division en train et test\n",
    "X_train, X_test, Y_train, Y_test = train_test_split(X, Y, test_size=0.2, random_state=0)\n",
    "\n",
    "# Standardisation des features pour éviter l'explosion des valeurs\n",
    "scaler = StandardScaler()\n",
    "X_train_scaled = scaler.fit_transform(X_train)  \n",
    "X_test_scaled = scaler.transform(X_test)\n",
    "\n",
    "# Ajout de la colonne de biais (intercept)\n",
    "X_train_b = np.c_[np.ones((X_train_scaled.shape[0], 1)), X_train_scaled]\n",
    "X_test_b = np.c_[np.ones((X_test_scaled.shape[0], 1)), X_test_scaled]\n",
    "\n",
    "# 🔹 2. Initialisation des poids (paramètres)\n",
    "n_features = X_train_b.shape[1]  # Nombre de variables + biais\n",
    "theta = np.random.randn(n_features, 1) * 0.01  # Petites valeurs pour éviter la divergence\n",
    "\n",
    "# Conversion de Y_train en matrice NumPy\n",
    "Y_train_np = Y_train.values.reshape(-1, 1)\n",
    "\n",
    "# 🔹 3. Descente de gradient\n",
    "alpha = 0.01  # Taux d'apprentissage\n",
    "n_iterations = 5000  # Nombre d'itérations\n",
    "m = X_train_b.shape[0]  # Nombre d'exemples\n",
    "losses = []  # Liste pour stocker l'évolution de la perte\n",
    "\n",
    "for iteration in range(n_iterations):\n",
    "    # Calcul des prédictions\n",
    "    Y_pred_train = X_train_b @ theta  \n",
    "    \n",
    "    # Calcul des erreurs\n",
    "    errors = Y_pred_train - Y_train_np  \n",
    "    \n",
    "    # Calcul des gradients\n",
    "    gradients = (2/m) * X_train_b.T @ errors  \n",
    "    \n",
    "    # Mise à jour des poids\n",
    "    theta -= alpha * gradients  \n",
    "    \n",
    "    # Calcul de la perte (MSE)\n",
    "    mse = np.mean(errors**2)\n",
    "    losses.append(mse)\n",
    "    \n",
    "    # Arrêt précoce si la perte devient stable\n",
    "    if iteration > 1 and abs(losses[-1] - losses[-2]) < 1e-10:\n",
    "        print(f\"✅ Convergence atteinte à l'itération {iteration}\")\n",
    "        break\n",
    "\n",
    "# 🔹 4. Prédiction avec le modèle entraîné\n",
    "Y_pred_GD = X_test_b @ theta  \n",
    "\n",
    "# 🔹 5. Évaluation du modèle\n",
    "mse_GD = mean_squared_error(Y_test, Y_pred_GD)\n",
    "mae_GD = mean_absolute_error(Y_test, Y_pred_GD)\n",
    "r2_GD = r2_score(Y_test, Y_pred_GD)\n",
    "\n",
    "print(f\"\\n📊 Performance du modèle (Descente de Gradient) :\")\n",
    "print(f\"MSE : {mse_GD:.4f}\")\n",
    "print(f\"MAE : {mae_GD:.4f}\")\n",
    "print(f\"R² : {r2_GD:.4f}\")\n",
    "\n",
    "# 🔹 Affichage des coefficients trouvés\n",
    "coefficients_GD = pd.DataFrame(theta, index=[\"Intercept\"] + list(X_train.columns), columns=[\"Coefficients (GD)\"])\n",
    "display(coefficients_GD)\n",
    "\n",
    "resultats_GD = pd.DataFrame({\"Valeur réelle\": Y_test.values, \"Prédiction GD\": Y_pred_GD.flatten()})\n",
    "display(resultats_GD.head(10))"
   ]
  }
 ],
 "metadata": {
  "kernelspec": {
   "display_name": "base",
   "language": "python",
   "name": "python3"
  },
  "language_info": {
   "codemirror_mode": {
    "name": "ipython",
    "version": 3
   },
   "file_extension": ".py",
   "mimetype": "text/x-python",
   "name": "python",
   "nbconvert_exporter": "python",
   "pygments_lexer": "ipython3",
   "version": "3.12.4"
  }
 },
 "nbformat": 4,
 "nbformat_minor": 2
}
