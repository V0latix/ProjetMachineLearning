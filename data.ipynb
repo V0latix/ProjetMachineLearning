{
 "cells": [
  {
   "cell_type": "code",
   "execution_count": 37,
   "metadata": {},
   "outputs": [
    {
     "name": "stdout",
     "output_type": "stream",
     "text": [
      "['BollingerBands', 'EMA', 'MA', 'MACD', 'RSI', 'STD', '__builtins__', '__cached__', '__doc__', '__file__', '__loader__', '__name__', '__package__', '__spec__', 'bollinger_bands', 'pandas', 'pd']\n"
     ]
    }
   ],
   "source": [
    "import yfinance as yf\n",
    "import matplotlib as plt\n",
    "import indicators \n",
    "import os\n",
    "import importlib\n",
    "print(dir(indicators))"
   ]
  },
  {
   "cell_type": "code",
   "execution_count": 38,
   "metadata": {},
   "outputs": [
    {
     "name": "stderr",
     "output_type": "stream",
     "text": [
      "[*********************100%***********************]  1 of 1 completed\n"
     ]
    }
   ],
   "source": [
    "sp500 = yf.download(\"^GSPC\", period=\"max\", interval=\"1d\")\n",
    "\n",
    "sp500[\"V_t\"] = (sp500[\"Close\"].diff() / sp500[\"Close\"].shift()) * 100\n",
    "sp500[\"MA5\"] = MA(sp500[\"Close\"], 5)\n",
    "sp500[\"MA15\"] = MA(sp500[\"Close\"], 15)\n",
    "sp500[\"EMA5\"] = EMA(sp500[\"Close\"], 5)\n",
    "sp500[\"EMA15\"] = EMA(sp500[\"Close\"], 15)\n",
    "sp500[\"RSI14\"] = RSI(sp500[\"Close\"], 14)\n",
    "sp500[\"MACD\"], sp500[\"Signal\"] = MACD(sp500[\"Close\"], 12, 26)\n",
    "sp500[\"STD10\"] = STD(sp500[\"Close\"], 10)\n",
    "sp500[\"STD20\"] = STD(sp500[\"Close\"], 20)\n",
    "sp500[\"BollingerBandUpper\"], sp500[\"BollingerBandLower\"] = bollinger_bands(sp500[\"Close\"], 20, 2)"
   ]
  },
  {
   "cell_type": "code",
   "execution_count": null,
   "metadata": {},
   "outputs": [],
   "source": []
  }
 ],
 "metadata": {
  "kernelspec": {
   "display_name": "base",
   "language": "python",
   "name": "python3"
  },
  "language_info": {
   "codemirror_mode": {
    "name": "ipython",
    "version": 3
   },
   "file_extension": ".py",
   "mimetype": "text/x-python",
   "name": "python",
   "nbconvert_exporter": "python",
   "pygments_lexer": "ipython3",
   "version": "3.12.4"
  }
 },
 "nbformat": 4,
 "nbformat_minor": 2
}
