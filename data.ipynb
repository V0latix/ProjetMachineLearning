{
 "cells": [
  {
   "cell_type": "code",
   "execution_count": 42,
   "metadata": {},
   "outputs": [
    {
     "name": "stdout",
     "output_type": "stream",
     "text": [
      "['BollingerBands', 'EMA', 'MA', 'MACD', 'RSI', 'STD', '__builtins__', '__cached__', '__doc__', '__file__', '__loader__', '__name__', '__package__', '__spec__', 'pandas', 'pd']\n"
     ]
    }
   ],
   "source": [
    "import yfinance as yf\n",
    "import matplotlib as plt\n",
    "from indicators import *\n",
    "import os\n",
    "import importlib\n",
    "importlib.reload(indicators)\n",
    "print(dir(indicators))"
   ]
  },
  {
   "cell_type": "code",
   "execution_count": 43,
   "metadata": {},
   "outputs": [],
   "source": [
    "start_date = '1950-01-01'\n",
    "end_date = '2025-01-01'"
   ]
  },
  {
   "cell_type": "code",
   "execution_count": 89,
   "metadata": {},
   "outputs": [],
   "source": [
    "indices = {\n",
    "    \"SP500\": \"^GSPC\",\n",
    "    \"Nasdaq100\": \"^NDX\",\n",
    "    \"DowJones\": \"^DJI\",\n",
    "    \"Russell2000\": \"^RUT\",\n",
    "    \"FTSE100\": \"^FTSE\",\n",
    "    \"DAX\": \"^GDAXI\",\n",
    "    \"CAC40\": \"^FCHI\",\n",
    "    \"Nikkei225\": \"^N225\",\n",
    "    \"HangSeng\": \"^HSI\",\n",
    "    \"EuroStoxx50\": \"^STOXX50E\"\n",
    "}"
   ]
  },
  {
   "cell_type": "code",
   "execution_count": 85,
   "metadata": {},
   "outputs": [],
   "source": [
    "def extract_data(ticker, start_date, end_date):\n",
    "    data = yf.download(ticker, start=start_date, end=end_date, interval=\"1d\")\n",
    "\n",
    "    data = data[data[\"Volume\"] > 0]\n",
    "    data[\"V_t\"] = (data[\"Close\"].diff() / data[\"Close\"].shift()) * 100\n",
    "    data[\"MA5\"] = MA(data[\"Close\"], 5)\n",
    "    data[\"MA15\"] = MA(data[\"Close\"], 15)\n",
    "    data[\"EMA5\"] = EMA(data[\"Close\"], 5)\n",
    "    data[\"EMA15\"] = EMA(data[\"Close\"], 15)\n",
    "    data[\"RSI14\"] = RSI(data[\"Close\"], 14)\n",
    "    data[\"MACD\"], data[\"Signal\"] = MACD(data[\"Close\"], 12, 26)\n",
    "    data[\"STD10\"] = STD(data[\"Close\"], 10)\n",
    "    data[\"STD20\"] = STD(data[\"Close\"], 20)\n",
    "    data[\"BollingerBandUpper\"], data[\"BollingerBandLower\"] = BollingerBands(data[\"Close\"], 20, 2)\n",
    "    data = data.dropna()\n",
    "\n",
    "    data = data.drop(\"Adj Close\", axis=1)\n",
    "    if isinstance(data.columns, pd.MultiIndex):\n",
    "        # On garde seulement le premier niveau de header\n",
    "        data.columns = data.columns.get_level_values(0)\n",
    "\n",
    "    # On transforme la date en colonne\n",
    "    data = data.reset_index()\n",
    "    data[\"Date\"] = pd.to_datetime(data[\"Date\"]).dt.date\n",
    "\n",
    "    return data"
   ]
  },
  {
   "cell_type": "code",
   "execution_count": 91,
   "metadata": {},
   "outputs": [],
   "source": [
    "base_list = []"
   ]
  },
  {
   "cell_type": "code",
   "execution_count": 92,
   "metadata": {},
   "outputs": [
    {
     "name": "stderr",
     "output_type": "stream",
     "text": [
      "[*********************100%***********************]  1 of 1 completed\n"
     ]
    },
    {
     "name": "stdout",
     "output_type": "stream",
     "text": [
      "✅ Fichier enregistré : /Users/romaindesmeulemester/ProjetMachineLearning/ProjetMachineLearning/base/SP500.csv\n"
     ]
    },
    {
     "name": "stderr",
     "output_type": "stream",
     "text": [
      "[*********************100%***********************]  1 of 1 completed\n"
     ]
    },
    {
     "name": "stdout",
     "output_type": "stream",
     "text": [
      "✅ Fichier enregistré : /Users/romaindesmeulemester/ProjetMachineLearning/ProjetMachineLearning/base/Nasdaq100.csv\n"
     ]
    },
    {
     "name": "stderr",
     "output_type": "stream",
     "text": [
      "[*********************100%***********************]  1 of 1 completed\n"
     ]
    },
    {
     "name": "stdout",
     "output_type": "stream",
     "text": [
      "✅ Fichier enregistré : /Users/romaindesmeulemester/ProjetMachineLearning/ProjetMachineLearning/base/DowJones.csv\n"
     ]
    },
    {
     "name": "stderr",
     "output_type": "stream",
     "text": [
      "[*********************100%***********************]  1 of 1 completed\n"
     ]
    },
    {
     "name": "stdout",
     "output_type": "stream",
     "text": [
      "✅ Fichier enregistré : /Users/romaindesmeulemester/ProjetMachineLearning/ProjetMachineLearning/base/Russell2000.csv\n"
     ]
    },
    {
     "name": "stderr",
     "output_type": "stream",
     "text": [
      "[*********************100%***********************]  1 of 1 completed\n"
     ]
    },
    {
     "name": "stdout",
     "output_type": "stream",
     "text": [
      "✅ Fichier enregistré : /Users/romaindesmeulemester/ProjetMachineLearning/ProjetMachineLearning/base/FTSE100.csv\n"
     ]
    },
    {
     "name": "stderr",
     "output_type": "stream",
     "text": [
      "[*********************100%***********************]  1 of 1 completed\n"
     ]
    },
    {
     "name": "stdout",
     "output_type": "stream",
     "text": [
      "✅ Fichier enregistré : /Users/romaindesmeulemester/ProjetMachineLearning/ProjetMachineLearning/base/DAX.csv\n"
     ]
    },
    {
     "name": "stderr",
     "output_type": "stream",
     "text": [
      "[*********************100%***********************]  1 of 1 completed\n"
     ]
    },
    {
     "name": "stdout",
     "output_type": "stream",
     "text": [
      "✅ Fichier enregistré : /Users/romaindesmeulemester/ProjetMachineLearning/ProjetMachineLearning/base/CAC40.csv\n"
     ]
    },
    {
     "name": "stderr",
     "output_type": "stream",
     "text": [
      "[*********************100%***********************]  1 of 1 completed\n"
     ]
    },
    {
     "name": "stdout",
     "output_type": "stream",
     "text": [
      "✅ Fichier enregistré : /Users/romaindesmeulemester/ProjetMachineLearning/ProjetMachineLearning/base/Nikkei225.csv\n"
     ]
    },
    {
     "name": "stderr",
     "output_type": "stream",
     "text": [
      "[*********************100%***********************]  1 of 1 completed\n"
     ]
    },
    {
     "name": "stdout",
     "output_type": "stream",
     "text": [
      "✅ Fichier enregistré : /Users/romaindesmeulemester/ProjetMachineLearning/ProjetMachineLearning/base/HangSeng.csv\n"
     ]
    },
    {
     "name": "stderr",
     "output_type": "stream",
     "text": [
      "[*********************100%***********************]  1 of 1 completed\n"
     ]
    },
    {
     "name": "stdout",
     "output_type": "stream",
     "text": [
      "✅ Fichier enregistré : /Users/romaindesmeulemester/ProjetMachineLearning/ProjetMachineLearning/base/EuroStoxx50.csv\n"
     ]
    }
   ],
   "source": [
    "for name, ticker in indices.items():\n",
    "    base_dir = os.path.join(os.getcwd(), \"base\")\n",
    "\n",
    "    data = extract_data(ticker, start_date, end_date)\n",
    "\n",
    "    data.insert(0, 'Indice', name)\n",
    "\n",
    "    base_list.append(data)\n",
    "\n",
    "    \n",
    "    if data is not None:\n",
    "        file_path = os.path.join(base_dir, f\"{name}.csv\")\n",
    "        data.to_csv(file_path)\n",
    "        print(f\"✅ Fichier enregistré : {file_path}\")\n",
    "\n",
    "    BaseTotal = pd.concat(base_list)\n",
    "\n",
    "    file_path = os.path.join(base_dir, \"BaseTotal.csv\")\n",
    "    BaseTotal.to_csv(file_path)"
   ]
  },
  {
   "cell_type": "code",
   "execution_count": 101,
   "metadata": {},
   "outputs": [
    {
     "data": {
      "text/html": [
       "<div>\n",
       "<style scoped>\n",
       "    .dataframe tbody tr th:only-of-type {\n",
       "        vertical-align: middle;\n",
       "    }\n",
       "\n",
       "    .dataframe tbody tr th {\n",
       "        vertical-align: top;\n",
       "    }\n",
       "\n",
       "    .dataframe thead th {\n",
       "        text-align: right;\n",
       "    }\n",
       "</style>\n",
       "<table border=\"1\" class=\"dataframe\">\n",
       "  <thead>\n",
       "    <tr style=\"text-align: right;\">\n",
       "      <th>Price</th>\n",
       "      <th>Indice</th>\n",
       "      <th>Date</th>\n",
       "      <th>Close</th>\n",
       "      <th>High</th>\n",
       "      <th>Low</th>\n",
       "      <th>Open</th>\n",
       "      <th>Volume</th>\n",
       "      <th>V_t</th>\n",
       "      <th>MA5</th>\n",
       "      <th>MA15</th>\n",
       "      <th>EMA5</th>\n",
       "      <th>EMA15</th>\n",
       "      <th>RSI14</th>\n",
       "      <th>MACD</th>\n",
       "      <th>Signal</th>\n",
       "      <th>STD10</th>\n",
       "      <th>STD20</th>\n",
       "      <th>BollingerBandUpper</th>\n",
       "      <th>BollingerBandLower</th>\n",
       "      <th>ID</th>\n",
       "    </tr>\n",
       "  </thead>\n",
       "  <tbody>\n",
       "    <tr>\n",
       "      <th>2</th>\n",
       "      <td>SP500</td>\n",
       "      <td>1950-02-01</td>\n",
       "      <td>17.049999</td>\n",
       "      <td>17.049999</td>\n",
       "      <td>17.049999</td>\n",
       "      <td>17.049999</td>\n",
       "      <td>1810000.0</td>\n",
       "      <td>0.000000</td>\n",
       "      <td>16.934000</td>\n",
       "      <td>16.854667</td>\n",
       "      <td>16.972734</td>\n",
       "      <td>16.893426</td>\n",
       "      <td>66.666594</td>\n",
       "      <td>0.057229</td>\n",
       "      <td>0.041967</td>\n",
       "      <td>0.116923</td>\n",
       "      <td>0.130718</td>\n",
       "      <td>17.157935</td>\n",
       "      <td>16.635065</td>\n",
       "      <td>3</td>\n",
       "    </tr>\n",
       "    <tr>\n",
       "      <th>5</th>\n",
       "      <td>SP500</td>\n",
       "      <td>1950-02-06</td>\n",
       "      <td>17.320000</td>\n",
       "      <td>17.320000</td>\n",
       "      <td>17.320000</td>\n",
       "      <td>17.320000</td>\n",
       "      <td>1490000.0</td>\n",
       "      <td>0.173504</td>\n",
       "      <td>17.188000</td>\n",
       "      <td>16.967333</td>\n",
       "      <td>17.197106</td>\n",
       "      <td>17.022334</td>\n",
       "      <td>76.744114</td>\n",
       "      <td>0.116766</td>\n",
       "      <td>0.070797</td>\n",
       "      <td>0.220124</td>\n",
       "      <td>0.190868</td>\n",
       "      <td>17.320736</td>\n",
       "      <td>16.557264</td>\n",
       "      <td>6</td>\n",
       "    </tr>\n",
       "    <tr>\n",
       "      <th>10</th>\n",
       "      <td>SP500</td>\n",
       "      <td>1950-02-14</td>\n",
       "      <td>17.059999</td>\n",
       "      <td>17.059999</td>\n",
       "      <td>17.059999</td>\n",
       "      <td>17.059999</td>\n",
       "      <td>2210000.0</td>\n",
       "      <td>-1.044085</td>\n",
       "      <td>17.204000</td>\n",
       "      <td>17.075333</td>\n",
       "      <td>17.176656</td>\n",
       "      <td>17.106440</td>\n",
       "      <td>58.928483</td>\n",
       "      <td>0.110911</td>\n",
       "      <td>0.104715</td>\n",
       "      <td>0.103731</td>\n",
       "      <td>0.196717</td>\n",
       "      <td>17.419934</td>\n",
       "      <td>16.633066</td>\n",
       "      <td>11</td>\n",
       "    </tr>\n",
       "    <tr>\n",
       "      <th>13</th>\n",
       "      <td>SP500</td>\n",
       "      <td>1950-02-17</td>\n",
       "      <td>17.150000</td>\n",
       "      <td>17.150000</td>\n",
       "      <td>17.150000</td>\n",
       "      <td>17.150000</td>\n",
       "      <td>1940000.0</td>\n",
       "      <td>0.941730</td>\n",
       "      <td>17.100000</td>\n",
       "      <td>17.133333</td>\n",
       "      <td>17.109009</td>\n",
       "      <td>17.094705</td>\n",
       "      <td>64.601728</td>\n",
       "      <td>0.077061</td>\n",
       "      <td>0.094073</td>\n",
       "      <td>0.112749</td>\n",
       "      <td>0.185014</td>\n",
       "      <td>17.427528</td>\n",
       "      <td>16.687471</td>\n",
       "      <td>14</td>\n",
       "    </tr>\n",
       "    <tr>\n",
       "      <th>19</th>\n",
       "      <td>SP500</td>\n",
       "      <td>1950-02-28</td>\n",
       "      <td>17.219999</td>\n",
       "      <td>17.219999</td>\n",
       "      <td>17.219999</td>\n",
       "      <td>17.219999</td>\n",
       "      <td>1310000.0</td>\n",
       "      <td>-0.347230</td>\n",
       "      <td>17.232000</td>\n",
       "      <td>17.193333</td>\n",
       "      <td>17.227320</td>\n",
       "      <td>17.170290</td>\n",
       "      <td>44.318204</td>\n",
       "      <td>0.082276</td>\n",
       "      <td>0.084670</td>\n",
       "      <td>0.097502</td>\n",
       "      <td>0.102398</td>\n",
       "      <td>17.381795</td>\n",
       "      <td>16.972204</td>\n",
       "      <td>20</td>\n",
       "    </tr>\n",
       "    <tr>\n",
       "      <th>...</th>\n",
       "      <td>...</td>\n",
       "      <td>...</td>\n",
       "      <td>...</td>\n",
       "      <td>...</td>\n",
       "      <td>...</td>\n",
       "      <td>...</td>\n",
       "      <td>...</td>\n",
       "      <td>...</td>\n",
       "      <td>...</td>\n",
       "      <td>...</td>\n",
       "      <td>...</td>\n",
       "      <td>...</td>\n",
       "      <td>...</td>\n",
       "      <td>...</td>\n",
       "      <td>...</td>\n",
       "      <td>...</td>\n",
       "      <td>...</td>\n",
       "      <td>...</td>\n",
       "      <td>...</td>\n",
       "      <td>...</td>\n",
       "    </tr>\n",
       "    <tr>\n",
       "      <th>74812</th>\n",
       "      <td>EuroStoxx50</td>\n",
       "      <td>2023-11-29</td>\n",
       "      <td>4370.529785</td>\n",
       "      <td>4382.149902</td>\n",
       "      <td>4341.299805</td>\n",
       "      <td>4341.299805</td>\n",
       "      <td>30478700.0</td>\n",
       "      <td>0.517702</td>\n",
       "      <td>4361.275977</td>\n",
       "      <td>4316.128678</td>\n",
       "      <td>4357.289174</td>\n",
       "      <td>4309.924103</td>\n",
       "      <td>73.527475</td>\n",
       "      <td>58.700953</td>\n",
       "      <td>52.031811</td>\n",
       "      <td>20.382278</td>\n",
       "      <td>81.705911</td>\n",
       "      <td>4442.247857</td>\n",
       "      <td>4115.424213</td>\n",
       "      <td>2353</td>\n",
       "    </tr>\n",
       "    <tr>\n",
       "      <th>74815</th>\n",
       "      <td>EuroStoxx50</td>\n",
       "      <td>2023-12-04</td>\n",
       "      <td>4414.950195</td>\n",
       "      <td>4426.549805</td>\n",
       "      <td>4405.330078</td>\n",
       "      <td>4414.299805</td>\n",
       "      <td>25291700.0</td>\n",
       "      <td>-0.080560</td>\n",
       "      <td>4386.895996</td>\n",
       "      <td>4353.274023</td>\n",
       "      <td>4393.844615</td>\n",
       "      <td>4341.871811</td>\n",
       "      <td>77.300843</td>\n",
       "      <td>62.118744</td>\n",
       "      <td>56.403455</td>\n",
       "      <td>28.099899</td>\n",
       "      <td>77.109942</td>\n",
       "      <td>4468.705920</td>\n",
       "      <td>4160.266150</td>\n",
       "      <td>2356</td>\n",
       "    </tr>\n",
       "    <tr>\n",
       "      <th>74819</th>\n",
       "      <td>EuroStoxx50</td>\n",
       "      <td>2023-12-08</td>\n",
       "      <td>4523.310059</td>\n",
       "      <td>4531.540039</td>\n",
       "      <td>4477.040039</td>\n",
       "      <td>4477.040039</td>\n",
       "      <td>26886000.0</td>\n",
       "      <td>1.107344</td>\n",
       "      <td>4469.612012</td>\n",
       "      <td>4398.783333</td>\n",
       "      <td>4473.827446</td>\n",
       "      <td>4401.795869</td>\n",
       "      <td>82.750457</td>\n",
       "      <td>75.157428</td>\n",
       "      <td>64.970202</td>\n",
       "      <td>59.589437</td>\n",
       "      <td>70.754816</td>\n",
       "      <td>4514.730141</td>\n",
       "      <td>4231.710875</td>\n",
       "      <td>2360</td>\n",
       "    </tr>\n",
       "    <tr>\n",
       "      <th>74820</th>\n",
       "      <td>EuroStoxx50</td>\n",
       "      <td>2023-12-11</td>\n",
       "      <td>4540.189941</td>\n",
       "      <td>4544.129883</td>\n",
       "      <td>4519.620117</td>\n",
       "      <td>4522.790039</td>\n",
       "      <td>24134800.0</td>\n",
       "      <td>0.373175</td>\n",
       "      <td>4494.659961</td>\n",
       "      <td>4411.968652</td>\n",
       "      <td>4495.948278</td>\n",
       "      <td>4419.095128</td>\n",
       "      <td>86.859123</td>\n",
       "      <td>79.101954</td>\n",
       "      <td>67.796552</td>\n",
       "      <td>64.835569</td>\n",
       "      <td>71.951961</td>\n",
       "      <td>4532.524429</td>\n",
       "      <td>4244.716587</td>\n",
       "      <td>2361</td>\n",
       "    </tr>\n",
       "    <tr>\n",
       "      <th>74821</th>\n",
       "      <td>EuroStoxx50</td>\n",
       "      <td>2023-12-12</td>\n",
       "      <td>4536.609863</td>\n",
       "      <td>4561.109863</td>\n",
       "      <td>4535.040039</td>\n",
       "      <td>4544.410156</td>\n",
       "      <td>26300000.0</td>\n",
       "      <td>-0.078853</td>\n",
       "      <td>4511.427930</td>\n",
       "      <td>4425.615983</td>\n",
       "      <td>4509.502140</td>\n",
       "      <td>4433.784470</td>\n",
       "      <td>84.696193</td>\n",
       "      <td>81.005357</td>\n",
       "      <td>70.438313</td>\n",
       "      <td>62.232501</td>\n",
       "      <td>75.350844</td>\n",
       "      <td>4551.566678</td>\n",
       "      <td>4250.163303</td>\n",
       "      <td>2362</td>\n",
       "    </tr>\n",
       "  </tbody>\n",
       "</table>\n",
       "<p>14967 rows × 20 columns</p>\n",
       "</div>"
      ],
      "text/plain": [
       "Price       Indice        Date        Close         High          Low  \\\n",
       "2            SP500  1950-02-01    17.049999    17.049999    17.049999   \n",
       "5            SP500  1950-02-06    17.320000    17.320000    17.320000   \n",
       "10           SP500  1950-02-14    17.059999    17.059999    17.059999   \n",
       "13           SP500  1950-02-17    17.150000    17.150000    17.150000   \n",
       "19           SP500  1950-02-28    17.219999    17.219999    17.219999   \n",
       "...            ...         ...          ...          ...          ...   \n",
       "74812  EuroStoxx50  2023-11-29  4370.529785  4382.149902  4341.299805   \n",
       "74815  EuroStoxx50  2023-12-04  4414.950195  4426.549805  4405.330078   \n",
       "74819  EuroStoxx50  2023-12-08  4523.310059  4531.540039  4477.040039   \n",
       "74820  EuroStoxx50  2023-12-11  4540.189941  4544.129883  4519.620117   \n",
       "74821  EuroStoxx50  2023-12-12  4536.609863  4561.109863  4535.040039   \n",
       "\n",
       "Price         Open      Volume       V_t          MA5         MA15  \\\n",
       "2        17.049999   1810000.0  0.000000    16.934000    16.854667   \n",
       "5        17.320000   1490000.0  0.173504    17.188000    16.967333   \n",
       "10       17.059999   2210000.0 -1.044085    17.204000    17.075333   \n",
       "13       17.150000   1940000.0  0.941730    17.100000    17.133333   \n",
       "19       17.219999   1310000.0 -0.347230    17.232000    17.193333   \n",
       "...            ...         ...       ...          ...          ...   \n",
       "74812  4341.299805  30478700.0  0.517702  4361.275977  4316.128678   \n",
       "74815  4414.299805  25291700.0 -0.080560  4386.895996  4353.274023   \n",
       "74819  4477.040039  26886000.0  1.107344  4469.612012  4398.783333   \n",
       "74820  4522.790039  24134800.0  0.373175  4494.659961  4411.968652   \n",
       "74821  4544.410156  26300000.0 -0.078853  4511.427930  4425.615983   \n",
       "\n",
       "Price         EMA5        EMA15      RSI14       MACD     Signal      STD10  \\\n",
       "2        16.972734    16.893426  66.666594   0.057229   0.041967   0.116923   \n",
       "5        17.197106    17.022334  76.744114   0.116766   0.070797   0.220124   \n",
       "10       17.176656    17.106440  58.928483   0.110911   0.104715   0.103731   \n",
       "13       17.109009    17.094705  64.601728   0.077061   0.094073   0.112749   \n",
       "19       17.227320    17.170290  44.318204   0.082276   0.084670   0.097502   \n",
       "...            ...          ...        ...        ...        ...        ...   \n",
       "74812  4357.289174  4309.924103  73.527475  58.700953  52.031811  20.382278   \n",
       "74815  4393.844615  4341.871811  77.300843  62.118744  56.403455  28.099899   \n",
       "74819  4473.827446  4401.795869  82.750457  75.157428  64.970202  59.589437   \n",
       "74820  4495.948278  4419.095128  86.859123  79.101954  67.796552  64.835569   \n",
       "74821  4509.502140  4433.784470  84.696193  81.005357  70.438313  62.232501   \n",
       "\n",
       "Price      STD20  BollingerBandUpper  BollingerBandLower    ID  \n",
       "2       0.130718           17.157935           16.635065     3  \n",
       "5       0.190868           17.320736           16.557264     6  \n",
       "10      0.196717           17.419934           16.633066    11  \n",
       "13      0.185014           17.427528           16.687471    14  \n",
       "19      0.102398           17.381795           16.972204    20  \n",
       "...          ...                 ...                 ...   ...  \n",
       "74812  81.705911         4442.247857         4115.424213  2353  \n",
       "74815  77.109942         4468.705920         4160.266150  2356  \n",
       "74819  70.754816         4514.730141         4231.710875  2360  \n",
       "74820  71.951961         4532.524429         4244.716587  2361  \n",
       "74821  75.350844         4551.566678         4250.163303  2362  \n",
       "\n",
       "[14967 rows x 20 columns]"
      ]
     },
     "execution_count": 101,
     "metadata": {},
     "output_type": "execute_result"
    }
   ],
   "source": [
    "BaseTotal = BaseTotal.reset_index(drop=True)\n",
    "\n",
    "BaseTrain = BaseTotal.sample(frac=0.8, random_state=0)\n",
    "\n",
    "BaseTest = BaseTotal.drop(BaseTrain.index)\n",
    "\n"
   ]
  },
  {
   "cell_type": "code",
   "execution_count": null,
   "metadata": {},
   "outputs": [],
   "source": []
  }
 ],
 "metadata": {
  "kernelspec": {
   "display_name": "base",
   "language": "python",
   "name": "python3"
  },
  "language_info": {
   "codemirror_mode": {
    "name": "ipython",
    "version": 3
   },
   "file_extension": ".py",
   "mimetype": "text/x-python",
   "name": "python",
   "nbconvert_exporter": "python",
   "pygments_lexer": "ipython3",
   "version": "3.12.4"
  }
 },
 "nbformat": 4,
 "nbformat_minor": 2
}
