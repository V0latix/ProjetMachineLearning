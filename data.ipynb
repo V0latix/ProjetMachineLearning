{
 "cells": [
  {
   "cell_type": "code",
   "execution_count": 23,
   "metadata": {},
   "outputs": [
    {
     "ename": "NameError",
     "evalue": "name 'indicators' is not defined",
     "output_type": "error",
     "traceback": [
      "\u001b[0;31m---------------------------------------------------------------------------\u001b[0m",
      "\u001b[0;31mNameError\u001b[0m                                 Traceback (most recent call last)",
      "Cell \u001b[0;32mIn[23], line 5\u001b[0m\n\u001b[1;32m      3\u001b[0m \u001b[38;5;28;01mfrom\u001b[39;00m \u001b[38;5;21;01mindicators\u001b[39;00m \u001b[38;5;28;01mimport\u001b[39;00m \u001b[38;5;241m*\u001b[39m\n\u001b[1;32m      4\u001b[0m \u001b[38;5;28;01mimport\u001b[39;00m \u001b[38;5;21;01mos\u001b[39;00m\n\u001b[0;32m----> 5\u001b[0m \u001b[38;5;28mprint\u001b[39m(\u001b[38;5;28mdir\u001b[39m(indicators))\n",
      "\u001b[0;31mNameError\u001b[0m: name 'indicators' is not defined"
     ]
    }
   ],
   "source": [
    "import yfinance as yf\n",
    "import matplotlib as plt\n",
    "from indicators import *\n",
    "import os\n",
    "print(dir(indicators))"
   ]
  },
  {
   "cell_type": "code",
   "execution_count": 20,
   "metadata": {},
   "outputs": [
    {
     "name": "stderr",
     "output_type": "stream",
     "text": [
      "[*********************100%***********************]  1 of 1 completed\n"
     ]
    },
    {
     "ename": "NameError",
     "evalue": "name 'BollingerBands' is not defined",
     "output_type": "error",
     "traceback": [
      "\u001b[0;31m---------------------------------------------------------------------------\u001b[0m",
      "\u001b[0;31mNameError\u001b[0m                                 Traceback (most recent call last)",
      "Cell \u001b[0;32mIn[20], line 12\u001b[0m\n\u001b[1;32m     10\u001b[0m sp500[\u001b[38;5;124m\"\u001b[39m\u001b[38;5;124mSTD10\u001b[39m\u001b[38;5;124m\"\u001b[39m] \u001b[38;5;241m=\u001b[39m STD(sp500[\u001b[38;5;124m\"\u001b[39m\u001b[38;5;124mClose\u001b[39m\u001b[38;5;124m\"\u001b[39m], \u001b[38;5;241m10\u001b[39m)\n\u001b[1;32m     11\u001b[0m sp500[\u001b[38;5;124m\"\u001b[39m\u001b[38;5;124mSTD20\u001b[39m\u001b[38;5;124m\"\u001b[39m] \u001b[38;5;241m=\u001b[39m STD(sp500[\u001b[38;5;124m\"\u001b[39m\u001b[38;5;124mClose\u001b[39m\u001b[38;5;124m\"\u001b[39m], \u001b[38;5;241m20\u001b[39m)\n\u001b[0;32m---> 12\u001b[0m sp500[\u001b[38;5;124m\"\u001b[39m\u001b[38;5;124mBollingerBandUpper\u001b[39m\u001b[38;5;124m\"\u001b[39m], sp500[\u001b[38;5;124m\"\u001b[39m\u001b[38;5;124mBollingerBandLower\u001b[39m\u001b[38;5;124m\"\u001b[39m] \u001b[38;5;241m=\u001b[39m BollingerBands(sp500[\u001b[38;5;124m\"\u001b[39m\u001b[38;5;124mClose\u001b[39m\u001b[38;5;124m\"\u001b[39m], \u001b[38;5;241m20\u001b[39m, \u001b[38;5;241m2\u001b[39m)\n",
      "\u001b[0;31mNameError\u001b[0m: name 'BollingerBands' is not defined"
     ]
    }
   ],
   "source": [
    "sp500 = yf.download(\"^GSPC\", period=\"max\", interval=\"1d\")\n",
    "\n",
    "sp500[\"V_t\"] = (sp500[\"Close\"].diff() / sp500[\"Close\"].shift()) * 100\n",
    "sp500[\"MA5\"] = MA(sp500[\"Close\"], 5)\n",
    "sp500[\"MA15\"] = MA(sp500[\"Close\"], 15)\n",
    "sp500[\"EMA5\"] = EMA(sp500[\"Close\"], 5)\n",
    "sp500[\"EMA15\"] = EMA(sp500[\"Close\"], 15)\n",
    "sp500[\"RSI14\"] = RSI(sp500[\"Close\"], 14)\n",
    "sp500[\"MACD\"], sp500[\"Signal\"] = MACD(sp500[\"Close\"], 12, 26)\n",
    "sp500[\"STD10\"] = STD(sp500[\"Close\"], 10)\n",
    "sp500[\"STD20\"] = STD(sp500[\"Close\"], 20)\n",
    "sp500[\"BollingerBandUpper\"], sp500[\"BollingerBandLower\"] = BollingerBands(sp500[\"Close\"], 20, 2)"
   ]
  },
  {
   "cell_type": "code",
   "execution_count": null,
   "metadata": {},
   "outputs": [],
   "source": []
  }
 ],
 "metadata": {
  "kernelspec": {
   "display_name": "base",
   "language": "python",
   "name": "python3"
  },
  "language_info": {
   "codemirror_mode": {
    "name": "ipython",
    "version": 3
   },
   "file_extension": ".py",
   "mimetype": "text/x-python",
   "name": "python",
   "nbconvert_exporter": "python",
   "pygments_lexer": "ipython3",
   "version": "3.12.4"
  }
 },
 "nbformat": 4,
 "nbformat_minor": 2
}
